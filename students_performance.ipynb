{
 "cells": [
  {
   "cell_type": "markdown",
   "metadata": {},
   "source": [
    "#Name: Godswill Umoh, TrainingID: 29557"
   ]
  },
  {
   "cell_type": "code",
   "execution_count": 7,
   "metadata": {},
   "outputs": [
    {
     "name": "stdout",
     "output_type": "stream",
     "text": [
      "\n",
      "DATAGURIX STUDENTS SCORE PROFILE\n"
     ]
    }
   ],
   "source": [
    "print(\"\\nDatagurix Students Score Profile\".upper())\n",
    "\n",
    "import pandas as pd\n",
    "import numpy as np\n",
    "import matplotlib.pyplot as plt\n"
   ]
  },
  {
   "cell_type": "code",
   "execution_count": 8,
   "metadata": {},
   "outputs": [],
   "source": [
    "\n",
    "students_dict = {\"Student 1\": {\"Student ID\":1234, \"Name\": \"Chioma Okafor\", \"Sex\":\"Female\", \"Math Score\":70, \"Science Score\":75, \"English Score\":80, \"History Score\":65, \"Geography Score\":45},\n",
    "                 \"Student 2\": {\"Student ID\":1235, \"Name\": \"Ola Bolu\", \"Sex\":\"male\", \"Math Score\":75, \"Science Score\":70, \"English Score\":90, \"History Score\":85, \"Geography Score\":75},\n",
    "                 \"Student 3\": {\"Student ID\":1236, \"Name\": \"Fatima Fatai\", \"Sex\":\"Female\", \"Math Score\":80, \"Science Score\":75, \"English Score\":70, \"History Score\":50, \"Geography Score\":85},\n",
    "                 \"Student 4\": {\"Student ID\":1237, \"Name\": \"John Ude\", \"Sex\":\"male\", \"Math Score\":40, \"Science Score\":75, \"English Score\":75, \"History Score\":60, \"Geography Score\":50},\n",
    "                 \"Student 5\": {\"Student ID\":1238, \"Name\": \"BOla Olu\", \"Sex\":\"Female\", \"Math Score\":90, \"Science Score\":60, \"English Score\":90, \"History Score\":70, \"Geography Score\":55},\n",
    "                 \"Student 6\": {\"Student ID\":1239, \"Name\": \"James Okon\", \"Sex\":\"male\", \"Math Score\":45, \"Science Score\":75, \"English Score\":50, \"History Score\":60, \"Geography Score\":70},\n",
    "                 \"Student 7\": {\"Student ID\":1240, \"Name\": \"Blessing Woods\", \"Sex\":\"Female\", \"Math Score\":30, \"Science Score\":40, \"English Score\":70, \"History Score\":65, \"Geography Score\":70},\n",
    "                 \"Student 8\": {\"Student ID\":1241, \"Name\": \"Musa Ibrahim\", \"Sex\":\"male\", \"Math Score\":30, \"Science Score\":40, \"English Score\":70, \"History Score\":65, \"Geography Score\":70}\n",
    "                 \n",
    "\n",
    "\n",
    "\n",
    "}"
   ]
  },
  {
   "cell_type": "code",
   "execution_count": 10,
   "metadata": {},
   "outputs": [
    {
     "name": "stdout",
     "output_type": "stream",
     "text": [
      "           Student ID            Name     Sex  Math Score  Science Score  \\\n",
      "Student 1        1234   Chioma Okafor  Female          70             75   \n",
      "Student 2        1235        Ola Bolu    male          75             70   \n",
      "Student 3        1236    Fatima Fatai  Female          80             75   \n",
      "Student 4        1237        John Ude    male          40             75   \n",
      "Student 5        1238        BOla Olu  Female          90             60   \n",
      "Student 6        1239      James Okon    male          45             75   \n",
      "Student 7        1240  Blessing Woods  Female          30             40   \n",
      "Student 8        1241    Musa Ibrahim    male          30             40   \n",
      "\n",
      "           English Score  History Score  Geography Score  \n",
      "Student 1             80             65               45  \n",
      "Student 2             90             85               75  \n",
      "Student 3             70             50               85  \n",
      "Student 4             75             60               50  \n",
      "Student 5             90             70               55  \n",
      "Student 6             50             60               70  \n",
      "Student 7             70             65               70  \n",
      "Student 8             70             65               70  \n"
     ]
    }
   ],
   "source": [
    "#Printing the DataFrame\n",
    "df = pd.DataFrame.from_dict(students_dict, orient=\"index\")\n",
    "print(df)"
   ]
  },
  {
   "cell_type": "code",
   "execution_count": 11,
   "metadata": {},
   "outputs": [
    {
     "name": "stdout",
     "output_type": "stream",
     "text": [
      "\n",
      "     0   1   2   3   4   5   6   7\n",
      "0  26  40  74   1  90   3  44  75\n",
      "1   0  86  41  60   9  50  85  32\n",
      "2  16  97  89  70  43  67  54  88\n",
      "3   6  11  65  61  82  34  20  23\n",
      "4  22  53  85  90  11  44  15  57\n",
      "5  31  63  99  52  58  91  63  90\n",
      "6  60  77  87  83  82  37  45  91\n",
      "7  82  42  20  59  51  34  31  53\n"
     ]
    }
   ],
   "source": [
    "#To create a random data\n",
    "row = 8\n",
    "cols = 8\n",
    "Random = np.random.randint(low=0, high=100, size=(row, cols))\n",
    "df2 = pd.DataFrame(Random)\n",
    "print(\"\\n\",df2)"
   ]
  },
  {
   "cell_type": "code",
   "execution_count": 12,
   "metadata": {},
   "outputs": [
    {
     "name": "stdout",
     "output_type": "stream",
     "text": [
      "\n",
      "The shape of the dataFrame is  (8, 8)\n"
     ]
    }
   ],
   "source": [
    "#2. The shape of the DataFrame (number of rows and columns)\n",
    "print(\"\\nThe shape of the dataFrame is \",df.shape)"
   ]
  },
  {
   "cell_type": "code",
   "execution_count": 17,
   "metadata": {},
   "outputs": [
    {
     "name": "stdout",
     "output_type": "stream",
     "text": [
      "Empty DataFrame\n",
      "Columns: [Student ID, Name, Sex, Math Score, Science Score, English Score, History Score, Geography Score]\n",
      "Index: []\n"
     ]
    }
   ],
   "source": [
    "#To find duplicates in a selected column\n",
    "df3= df[df.duplicated()]\n",
    "print(df3)\n"
   ]
  },
  {
   "cell_type": "code",
   "execution_count": 18,
   "metadata": {},
   "outputs": [
    {
     "name": "stdout",
     "output_type": "stream",
     "text": [
      "           Student ID            Name     Sex  Math Score  Science Score  \\\n",
      "Student 1        1234   Chioma Okafor  Female          70             75   \n",
      "Student 2        1235        Ola Bolu    male          75             70   \n",
      "Student 3        1236    Fatima Fatai  Female          80             75   \n",
      "Student 4        1237        John Ude    male          40             75   \n",
      "Student 5        1238        BOla Olu  Female          90             60   \n",
      "Student 6        1239      James Okon    male          45             75   \n",
      "Student 7        1240  Blessing Woods  Female          30             40   \n",
      "Student 8        1241    Musa Ibrahim    male          30             40   \n",
      "\n",
      "           English Score  History Score  Geography Score  Economics Score  \n",
      "Student 1             80             65               45               70  \n",
      "Student 2             90             85               75               45  \n",
      "Student 3             70             50               85               80  \n",
      "Student 4             75             60               50               60  \n",
      "Student 5             90             70               55               85  \n",
      "Student 6             50             60               70               60  \n",
      "Student 7             70             65               70               60  \n",
      "Student 8             70             65               70               70  \n"
     ]
    }
   ],
   "source": [
    "#3 Adding new column to dataFrame\n",
    "new_subject = [70, 45, 80, 60, 85, 60, 60, 70]\n",
    "\n",
    "df[\"Economics Score\"] = new_subject\n",
    "print(df)"
   ]
  },
  {
   "cell_type": "code",
   "execution_count": 19,
   "metadata": {},
   "outputs": [
    {
     "name": "stdout",
     "output_type": "stream",
     "text": [
      "The mean score for all subjects are: \n",
      "Math Score         57.500\n",
      "English Score      74.375\n",
      "History Score      65.000\n",
      "Geography Score    65.000\n",
      "Economics Score    66.250\n",
      "dtype: float64\n"
     ]
    }
   ],
   "source": [
    "#Column mean\n",
    "print(\"The mean score for all subjects are: \")\n",
    "print(df[[\"Math Score\", \"English Score\",\"History Score\", \"Geography Score\", \"Economics Score\" ]].mean())"
   ]
  },
  {
   "cell_type": "code",
   "execution_count": 20,
   "metadata": {},
   "outputs": [
    {
     "name": "stdout",
     "output_type": "stream",
     "text": [
      "\n",
      "Maximum score for each subject\n",
      "Math Score         90\n",
      "English Score      90\n",
      "History Score      85\n",
      "Geography Score    85\n",
      "Economics Score    85\n",
      "dtype: int64\n"
     ]
    }
   ],
   "source": [
    "#Max score\n",
    "print(\"\\nMaximum score for each subject\")\n",
    "print(df[[\"Math Score\", \"English Score\",\"History Score\", \"Geography Score\", \"Economics Score\" ]].max())"
   ]
  },
  {
   "cell_type": "code",
   "execution_count": 21,
   "metadata": {},
   "outputs": [
    {
     "name": "stdout",
     "output_type": "stream",
     "text": [
      "\n",
      "Minimum score in each subject\n",
      "Math Score         30\n",
      "English Score      50\n",
      "History Score      50\n",
      "Geography Score    45\n",
      "Economics Score    45\n",
      "dtype: int64\n"
     ]
    }
   ],
   "source": [
    "#min score\n",
    "print(\"\\nMinimum score in each subject\")\n",
    "print(df[[\"Math Score\", \"English Score\",\"History Score\", \"Geography Score\", \"Economics Score\" ]].min())\n"
   ]
  },
  {
   "cell_type": "code",
   "execution_count": 30,
   "metadata": {},
   "outputs": [
    {
     "data": {
      "text/plain": [
       "Text(0, 0.5, 'Math Score')"
      ]
     },
     "execution_count": 30,
     "metadata": {},
     "output_type": "execute_result"
    },
    {
     "data": {
      "image/png": "[encoded data removed]",
      "text/plain": [
       "<Figure size 640x480 with 1 Axes>"
      ]
     },
     "metadata": {},
     "output_type": "display_data"
    }
   ],
   "source": [
    "#4 To create a bar chart\n",
    "#A bar chart to visualize the average scores of students for each subject, grouped by gender.\n",
    "\n",
    "plt.bar(df.Sex,df[\"Math Score\"])\n",
    "plt.xlabel(\"Sex\")\n",
    "plt.ylabel(\"Math Score\")"
   ]
  }
 ],
 "metadata": {
  "kernelspec": {
   "display_name": "base",
   "language": "python",
   "name": "python3"
  },
  "language_info": {
   "codemirror_mode": {
    "name": "ipython",
    "version": 3
   },
   "file_extension": ".py",
   "mimetype": "text/x-python",
   "name": "python",
   "nbconvert_exporter": "python",
   "pygments_lexer": "ipython3",
   "version": "3.11.3"
  },
  "orig_nbformat": 4
 },
 "nbformat": 4,
 "nbformat_minor": 2
}
